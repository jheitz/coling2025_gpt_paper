{
 "cells": [
  {
   "cell_type": "code",
   "id": "initial_id",
   "metadata": {
    "collapsed": true,
    "ExecuteTime": {
     "end_time": "2024-12-06T17:08:52.692600Z",
     "start_time": "2024-12-06T17:08:52.690575Z"
    }
   },
   "source": [
    "import pandas as pd\n",
    "import numpy as np"
   ],
   "outputs": [],
   "execution_count": 1
  },
  {
   "cell_type": "code",
   "source": [
    "\n",
    "\n",
    "prompt_sensitivity_icc = {'Discourse Impairment': 0.8899743569267353,\n",
    " 'Syntactic Simplification': 0.802704542017442,\n",
    " 'Impoverished Vocabulary': 0.8266105152332693,\n",
    " 'Word-Finding Difficulties (Anomia)': 0.9587543679054366,\n",
    " 'Semantic Paraphasias': 0.8084886128364384}\n",
    "\n",
    "seed_sensitivity_icc = {\n",
    "    'Discourse Impairment':                  0.890259,\n",
    "    'Syntactic Simplification':              0.853627,\n",
    "    'Impoverished Vocabulary':               0.900464,\n",
    "    'Word-Finding Difficulties (Anomia)':    0.973012,\n",
    "    'Semantic Paraphasias':                  0.790307,\n",
    "}"
   ],
   "metadata": {
    "collapsed": false,
    "ExecuteTime": {
     "end_time": "2024-12-06T17:08:52.729883Z",
     "start_time": "2024-12-06T17:08:52.727438Z"
    }
   },
   "id": "151d8c09a4a84671",
   "outputs": [],
   "execution_count": 2
  },
  {
   "cell_type": "code",
   "source": [
    "prompt_sensitivity_mae = {'Discourse Impairment': 0.3108974358974359,\n",
    " 'Syntactic Simplification': 0.36538461538461536,\n",
    " 'Impoverished Vocabulary': 0.2916666666666667,\n",
    " 'Word-Finding Difficulties (Anomia)': 0.1762820512820513,\n",
    " 'Semantic Paraphasias': 0.09935897435897435}\n",
    "\n",
    "seed_sensitivity_mae = {\n",
    "    'Discourse Impairment':0.296774,\n",
    "'Syntactic Simplification':0.264516,\n",
    "'Impoverished Vocabulary':0.158065,\n",
    "'Word-Finding Difficulties (Anomia)':0.103226,\n",
    "'Semantic Paraphasias':0.093548\n",
    "}\n"
   ],
   "metadata": {
    "collapsed": false,
    "ExecuteTime": {
     "end_time": "2024-12-06T17:08:52.854122Z",
     "start_time": "2024-12-06T17:08:52.852034Z"
    }
   },
   "id": "4e2e7312b2c8b6d4",
   "outputs": [],
   "execution_count": 3
  },
  {
   "cell_type": "code",
   "source": [
    "combined = pd.DataFrame({\n",
    "    'prompt_icc': prompt_sensitivity_icc,\n",
    "    'seed_icc': seed_sensitivity_icc,\n",
    "    'prompt_mae': prompt_sensitivity_mae,\n",
    "    'seed_mae': seed_sensitivity_mae,\n",
    "})\n",
    "combined.loc['Average'] = combined.mean(axis=0)\n",
    "\n",
    "combined['Seed'] = combined.apply(lambda row: f\"{row['seed_mae']:.2f} | {row['seed_icc']:.2f}\", axis=1)\n",
    "combined['Prompt'] = combined.apply(lambda row: f\"{row['prompt_mae']:.2f} | {row['prompt_icc']:.2f}\", axis=1)\n",
    "\n",
    "combined = combined.drop(columns=['prompt_mae', 'prompt_icc', 'seed_mae', 'seed_icc'])\n",
    "\n",
    "combined"
   ],
   "metadata": {
    "collapsed": false,
    "ExecuteTime": {
     "end_time": "2024-12-06T17:08:53.018262Z",
     "start_time": "2024-12-06T17:08:53.009154Z"
    }
   },
   "id": "e858589c339a4d52",
   "outputs": [
    {
     "data": {
      "text/plain": [
       "                                           Seed       Prompt\n",
       "Discourse Impairment                0.30 | 0.89  0.31 | 0.89\n",
       "Syntactic Simplification            0.26 | 0.85  0.37 | 0.80\n",
       "Impoverished Vocabulary             0.16 | 0.90  0.29 | 0.83\n",
       "Word-Finding Difficulties (Anomia)  0.10 | 0.97  0.18 | 0.96\n",
       "Semantic Paraphasias                0.09 | 0.79  0.10 | 0.81\n",
       "Average                             0.18 | 0.88  0.25 | 0.86"
      ],
      "text/html": [
       "<div>\n",
       "<style scoped>\n",
       "    .dataframe tbody tr th:only-of-type {\n",
       "        vertical-align: middle;\n",
       "    }\n",
       "\n",
       "    .dataframe tbody tr th {\n",
       "        vertical-align: top;\n",
       "    }\n",
       "\n",
       "    .dataframe thead th {\n",
       "        text-align: right;\n",
       "    }\n",
       "</style>\n",
       "<table border=\"1\" class=\"dataframe\">\n",
       "  <thead>\n",
       "    <tr style=\"text-align: right;\">\n",
       "      <th></th>\n",
       "      <th>Seed</th>\n",
       "      <th>Prompt</th>\n",
       "    </tr>\n",
       "  </thead>\n",
       "  <tbody>\n",
       "    <tr>\n",
       "      <th>Discourse Impairment</th>\n",
       "      <td>0.30 | 0.89</td>\n",
       "      <td>0.31 | 0.89</td>\n",
       "    </tr>\n",
       "    <tr>\n",
       "      <th>Syntactic Simplification</th>\n",
       "      <td>0.26 | 0.85</td>\n",
       "      <td>0.37 | 0.80</td>\n",
       "    </tr>\n",
       "    <tr>\n",
       "      <th>Impoverished Vocabulary</th>\n",
       "      <td>0.16 | 0.90</td>\n",
       "      <td>0.29 | 0.83</td>\n",
       "    </tr>\n",
       "    <tr>\n",
       "      <th>Word-Finding Difficulties (Anomia)</th>\n",
       "      <td>0.10 | 0.97</td>\n",
       "      <td>0.18 | 0.96</td>\n",
       "    </tr>\n",
       "    <tr>\n",
       "      <th>Semantic Paraphasias</th>\n",
       "      <td>0.09 | 0.79</td>\n",
       "      <td>0.10 | 0.81</td>\n",
       "    </tr>\n",
       "    <tr>\n",
       "      <th>Average</th>\n",
       "      <td>0.18 | 0.88</td>\n",
       "      <td>0.25 | 0.86</td>\n",
       "    </tr>\n",
       "  </tbody>\n",
       "</table>\n",
       "</div>"
      ]
     },
     "execution_count": 4,
     "metadata": {},
     "output_type": "execute_result"
    }
   ],
   "execution_count": 4
  },
  {
   "cell_type": "code",
   "source": [
    "print(combined.to_latex())"
   ],
   "metadata": {
    "collapsed": false,
    "ExecuteTime": {
     "end_time": "2024-12-06T17:08:53.118605Z",
     "start_time": "2024-12-06T17:08:53.083017Z"
    }
   },
   "id": "cff1899c80238c3b",
   "outputs": [
    {
     "name": "stdout",
     "output_type": "stream",
     "text": [
      "\\begin{tabular}{lll}\n",
      "\\toprule\n",
      " & Seed & Prompt \\\\\n",
      "\\midrule\n",
      "Discourse Impairment & 0.30 | 0.89 & 0.31 | 0.89 \\\\\n",
      "Syntactic Simplification & 0.26 | 0.85 & 0.37 | 0.80 \\\\\n",
      "Impoverished Vocabulary & 0.16 | 0.90 & 0.29 | 0.83 \\\\\n",
      "Word-Finding Difficulties (Anomia) & 0.10 | 0.97 & 0.18 | 0.96 \\\\\n",
      "Semantic Paraphasias & 0.09 | 0.79 & 0.10 | 0.81 \\\\\n",
      "Average & 0.18 | 0.88 & 0.25 | 0.86 \\\\\n",
      "\\bottomrule\n",
      "\\end{tabular}\n",
      "\n"
     ]
    }
   ],
   "execution_count": 5
  },
  {
   "cell_type": "code",
   "source": [],
   "metadata": {
    "collapsed": false,
    "ExecuteTime": {
     "end_time": "2024-12-06T17:08:53.140610Z",
     "start_time": "2024-12-06T17:08:53.139163Z"
    }
   },
   "id": "8577c56b469cd5d9",
   "outputs": [],
   "execution_count": null
  },
  {
   "cell_type": "code",
   "source": [
    "combined = pd.DataFrame({\n",
    "    'seed_mae': seed_sensitivity_mae,\n",
    "    'seed_icc': seed_sensitivity_icc,\n",
    "    'prompt_mae': prompt_sensitivity_mae,\n",
    "    'prompt_icc': prompt_sensitivity_icc,\n",
    "})\n",
    "combined.loc['Average'] = combined.mean(axis=0)\n",
    "\n",
    "#combined['Seed'] = combined.apply(lambda row: f\"{row['seed_mae']:.2f} | {row['seed_icc']:.2f}\", axis=1)\n",
    "#combined['Prompt'] = combined.apply(lambda row: f\"{row['prompt_mae']:.2f} | {row['prompt_icc']:.2f}\", axis=1)\n",
    "\n",
    "#combined = combined.drop(columns=['prompt_mae', 'prompt_icc', 'seed_mae', 'seed_icc'])\n",
    "\n",
    "combined"
   ],
   "metadata": {
    "collapsed": false,
    "ExecuteTime": {
     "end_time": "2024-12-06T17:08:53.149651Z",
     "start_time": "2024-12-06T17:08:53.144305Z"
    }
   },
   "id": "ddebeb699a5cafb4",
   "outputs": [
    {
     "data": {
      "text/plain": [
       "                                    seed_mae  seed_icc  prompt_mae  prompt_icc\n",
       "Discourse Impairment                0.296774  0.890259    0.310897    0.889974\n",
       "Syntactic Simplification            0.264516  0.853627    0.365385    0.802705\n",
       "Impoverished Vocabulary             0.158065  0.900464    0.291667    0.826611\n",
       "Word-Finding Difficulties (Anomia)  0.103226  0.973012    0.176282    0.958754\n",
       "Semantic Paraphasias                0.093548  0.790307    0.099359    0.808489\n",
       "Average                             0.183226  0.881534    0.248718    0.857306"
      ],
      "text/html": [
       "<div>\n",
       "<style scoped>\n",
       "    .dataframe tbody tr th:only-of-type {\n",
       "        vertical-align: middle;\n",
       "    }\n",
       "\n",
       "    .dataframe tbody tr th {\n",
       "        vertical-align: top;\n",
       "    }\n",
       "\n",
       "    .dataframe thead th {\n",
       "        text-align: right;\n",
       "    }\n",
       "</style>\n",
       "<table border=\"1\" class=\"dataframe\">\n",
       "  <thead>\n",
       "    <tr style=\"text-align: right;\">\n",
       "      <th></th>\n",
       "      <th>seed_mae</th>\n",
       "      <th>seed_icc</th>\n",
       "      <th>prompt_mae</th>\n",
       "      <th>prompt_icc</th>\n",
       "    </tr>\n",
       "  </thead>\n",
       "  <tbody>\n",
       "    <tr>\n",
       "      <th>Discourse Impairment</th>\n",
       "      <td>0.296774</td>\n",
       "      <td>0.890259</td>\n",
       "      <td>0.310897</td>\n",
       "      <td>0.889974</td>\n",
       "    </tr>\n",
       "    <tr>\n",
       "      <th>Syntactic Simplification</th>\n",
       "      <td>0.264516</td>\n",
       "      <td>0.853627</td>\n",
       "      <td>0.365385</td>\n",
       "      <td>0.802705</td>\n",
       "    </tr>\n",
       "    <tr>\n",
       "      <th>Impoverished Vocabulary</th>\n",
       "      <td>0.158065</td>\n",
       "      <td>0.900464</td>\n",
       "      <td>0.291667</td>\n",
       "      <td>0.826611</td>\n",
       "    </tr>\n",
       "    <tr>\n",
       "      <th>Word-Finding Difficulties (Anomia)</th>\n",
       "      <td>0.103226</td>\n",
       "      <td>0.973012</td>\n",
       "      <td>0.176282</td>\n",
       "      <td>0.958754</td>\n",
       "    </tr>\n",
       "    <tr>\n",
       "      <th>Semantic Paraphasias</th>\n",
       "      <td>0.093548</td>\n",
       "      <td>0.790307</td>\n",
       "      <td>0.099359</td>\n",
       "      <td>0.808489</td>\n",
       "    </tr>\n",
       "    <tr>\n",
       "      <th>Average</th>\n",
       "      <td>0.183226</td>\n",
       "      <td>0.881534</td>\n",
       "      <td>0.248718</td>\n",
       "      <td>0.857306</td>\n",
       "    </tr>\n",
       "  </tbody>\n",
       "</table>\n",
       "</div>"
      ]
     },
     "execution_count": 6,
     "metadata": {},
     "output_type": "execute_result"
    }
   ],
   "execution_count": 6
  },
  {
   "cell_type": "code",
   "source": [
    "print(combined.to_latex(float_format=\"%.2f\"))\n"
   ],
   "metadata": {
    "collapsed": false,
    "ExecuteTime": {
     "end_time": "2024-12-06T17:08:53.187584Z",
     "start_time": "2024-12-06T17:08:53.184348Z"
    }
   },
   "id": "d56d794d48897997",
   "outputs": [
    {
     "name": "stdout",
     "output_type": "stream",
     "text": [
      "\\begin{tabular}{lrrrr}\n",
      "\\toprule\n",
      " & seed_mae & seed_icc & prompt_mae & prompt_icc \\\\\n",
      "\\midrule\n",
      "Discourse Impairment & 0.30 & 0.89 & 0.31 & 0.89 \\\\\n",
      "Syntactic Simplification & 0.26 & 0.85 & 0.37 & 0.80 \\\\\n",
      "Impoverished Vocabulary & 0.16 & 0.90 & 0.29 & 0.83 \\\\\n",
      "Word-Finding Difficulties (Anomia) & 0.10 & 0.97 & 0.18 & 0.96 \\\\\n",
      "Semantic Paraphasias & 0.09 & 0.79 & 0.10 & 0.81 \\\\\n",
      "Average & 0.18 & 0.88 & 0.25 & 0.86 \\\\\n",
      "\\bottomrule\n",
      "\\end{tabular}\n",
      "\n"
     ]
    }
   ],
   "execution_count": 7
  },
  {
   "cell_type": "code",
   "source": [],
   "metadata": {
    "collapsed": false,
    "ExecuteTime": {
     "end_time": "2024-12-06T17:08:53.228230Z",
     "start_time": "2024-12-06T17:08:53.226582Z"
    }
   },
   "id": "c4525336a442493d",
   "outputs": [],
   "execution_count": null
  }
 ],
 "metadata": {
  "kernelspec": {
   "display_name": "Python 3",
   "language": "python",
   "name": "python3"
  },
  "language_info": {
   "codemirror_mode": {
    "name": "ipython",
    "version": 2
   },
   "file_extension": ".py",
   "mimetype": "text/x-python",
   "name": "python",
   "nbconvert_exporter": "python",
   "pygments_lexer": "ipython2",
   "version": "2.7.6"
  }
 },
 "nbformat": 4,
 "nbformat_minor": 5
}
