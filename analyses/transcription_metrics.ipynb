{
 "cells": [
  {
   "cell_type": "code",
   "metadata": {
    "collapsed": true,
    "ExecuteTime": {
     "end_time": "2024-12-06T17:08:55.936140Z",
     "start_time": "2024-12-06T17:08:54.834973Z"
    }
   },
   "source": [
    "import numpy as np\n",
    "import pandas as pd\n",
    "import os, re, glob\n",
    "from itertools import chain\n",
    "import matplotlib.pyplot as plt\n",
    "import jiwer\n",
    "\n",
    "from util.helpers import create_directory\n",
    "\n",
    "\n",
    "from config.constants import Constants\n",
    "CONSTANTS = Constants(local=True)\n"
   ],
   "outputs": [],
   "execution_count": 1
  },
  {
   "cell_type": "markdown",
   "source": [
    "## Get mapping of sample name to label -> for group-wise analysis later"
   ],
   "metadata": {
    "collapsed": false
   }
  },
  {
   "cell_type": "code",
   "source": [
    "from dataloader.metadata_loader import ADReSSParticipantMetadataLoader\n",
    "\n",
    "metadata_loader = ADReSSParticipantMetadataLoader()\n",
    "metadata = metadata_loader.load_metadata()\n",
    "metadata"
   ],
   "metadata": {
    "collapsed": false,
    "ExecuteTime": {
     "end_time": "2024-12-06T17:08:55.956557Z",
     "start_time": "2024-12-06T17:08:55.940807Z"
    }
   },
   "outputs": [
    {
     "name": "stdout",
     "output_type": "stream",
     "text": [
      "Initializing metadata loader ADReSS Participant Metadata\n"
     ]
    },
    {
     "name": "stderr",
     "output_type": "stream",
     "text": [
      "/Users/jheitz/git/coling2025_gpt_paper/src/dataloader/metadata_loader.py:39: FutureWarning: Series.replace without 'value' and with non-dict-like 'to_replace' is deprecated and will raise in a future version. Explicitly specify the new values instead.\n",
      "  self.metadata.mmse = self.metadata.mmse.astype('str').str.strip().replace('NA', ).dropna().astype(int)\n"
     ]
    },
    {
     "data": {
      "text/plain": [
       "   sample_name  age gender  Label  mmse\n",
       "0         S160   63      1      0    28\n",
       "1         S161   55      1      0    29\n",
       "2         S162   67      1      1    24\n",
       "3         S163   71      0      0    30\n",
       "4         S164   73      1      1    21\n",
       "..         ...  ...    ...    ...   ...\n",
       "49        S071   74      0      0    29\n",
       "50        S072   75      0      0    29\n",
       "51        S073   61      0      0    29\n",
       "52        S076   78      1      0    28\n",
       "53        S077   77      1      0    29\n",
       "\n",
       "[156 rows x 5 columns]"
      ],
      "text/html": [
       "<div>\n",
       "<style scoped>\n",
       "    .dataframe tbody tr th:only-of-type {\n",
       "        vertical-align: middle;\n",
       "    }\n",
       "\n",
       "    .dataframe tbody tr th {\n",
       "        vertical-align: top;\n",
       "    }\n",
       "\n",
       "    .dataframe thead th {\n",
       "        text-align: right;\n",
       "    }\n",
       "</style>\n",
       "<table border=\"1\" class=\"dataframe\">\n",
       "  <thead>\n",
       "    <tr style=\"text-align: right;\">\n",
       "      <th></th>\n",
       "      <th>sample_name</th>\n",
       "      <th>age</th>\n",
       "      <th>gender</th>\n",
       "      <th>Label</th>\n",
       "      <th>mmse</th>\n",
       "    </tr>\n",
       "  </thead>\n",
       "  <tbody>\n",
       "    <tr>\n",
       "      <th>0</th>\n",
       "      <td>S160</td>\n",
       "      <td>63</td>\n",
       "      <td>1</td>\n",
       "      <td>0</td>\n",
       "      <td>28</td>\n",
       "    </tr>\n",
       "    <tr>\n",
       "      <th>1</th>\n",
       "      <td>S161</td>\n",
       "      <td>55</td>\n",
       "      <td>1</td>\n",
       "      <td>0</td>\n",
       "      <td>29</td>\n",
       "    </tr>\n",
       "    <tr>\n",
       "      <th>2</th>\n",
       "      <td>S162</td>\n",
       "      <td>67</td>\n",
       "      <td>1</td>\n",
       "      <td>1</td>\n",
       "      <td>24</td>\n",
       "    </tr>\n",
       "    <tr>\n",
       "      <th>3</th>\n",
       "      <td>S163</td>\n",
       "      <td>71</td>\n",
       "      <td>0</td>\n",
       "      <td>0</td>\n",
       "      <td>30</td>\n",
       "    </tr>\n",
       "    <tr>\n",
       "      <th>4</th>\n",
       "      <td>S164</td>\n",
       "      <td>73</td>\n",
       "      <td>1</td>\n",
       "      <td>1</td>\n",
       "      <td>21</td>\n",
       "    </tr>\n",
       "    <tr>\n",
       "      <th>...</th>\n",
       "      <td>...</td>\n",
       "      <td>...</td>\n",
       "      <td>...</td>\n",
       "      <td>...</td>\n",
       "      <td>...</td>\n",
       "    </tr>\n",
       "    <tr>\n",
       "      <th>49</th>\n",
       "      <td>S071</td>\n",
       "      <td>74</td>\n",
       "      <td>0</td>\n",
       "      <td>0</td>\n",
       "      <td>29</td>\n",
       "    </tr>\n",
       "    <tr>\n",
       "      <th>50</th>\n",
       "      <td>S072</td>\n",
       "      <td>75</td>\n",
       "      <td>0</td>\n",
       "      <td>0</td>\n",
       "      <td>29</td>\n",
       "    </tr>\n",
       "    <tr>\n",
       "      <th>51</th>\n",
       "      <td>S073</td>\n",
       "      <td>61</td>\n",
       "      <td>0</td>\n",
       "      <td>0</td>\n",
       "      <td>29</td>\n",
       "    </tr>\n",
       "    <tr>\n",
       "      <th>52</th>\n",
       "      <td>S076</td>\n",
       "      <td>78</td>\n",
       "      <td>1</td>\n",
       "      <td>0</td>\n",
       "      <td>28</td>\n",
       "    </tr>\n",
       "    <tr>\n",
       "      <th>53</th>\n",
       "      <td>S077</td>\n",
       "      <td>77</td>\n",
       "      <td>1</td>\n",
       "      <td>0</td>\n",
       "      <td>29</td>\n",
       "    </tr>\n",
       "  </tbody>\n",
       "</table>\n",
       "<p>156 rows × 5 columns</p>\n",
       "</div>"
      ]
     },
     "execution_count": 2,
     "metadata": {},
     "output_type": "execute_result"
    }
   ],
   "execution_count": 2
  },
  {
   "cell_type": "markdown",
   "source": [
    "## Load preprocessed manual transcripts\n"
   ],
   "metadata": {
    "collapsed": false
   }
  },
  {
   "cell_type": "code",
   "source": [
    "\n",
    "def get_manual_transcriptions():\n",
    "    transcriptions = []\n",
    "\n",
    "    for root, dirs, files in os.walk('/Volumes/methlab/Students/Jonathan/data_preprocessed/transcriptions/manual/_raw_ADReSS_manual_transcripts/ee5faf'):\n",
    "        # Filter the files for .txt extension\n",
    "        txt_files = glob.glob(os.path.join(root, '*.txt'))\n",
    "\n",
    "        # Read the content of each .txt file\n",
    "        for file_path in txt_files:\n",
    "            \n",
    "            with open(file_path, 'r') as file:\n",
    "                content = file.read()\n",
    "                path = os.path.basename(file_path)\n",
    "                sample_name = path[:path.index(\".\")]\n",
    "                if sample_name != \"info\":\n",
    "                    transcriptions.append(pd.Series({'file': path, 'sample_name': sample_name, 'manual': content}))\n",
    "\n",
    "    return pd.concat(transcriptions, axis=1).T\n",
    "\n",
    "manual = get_manual_transcriptions()\n",
    "manual"
   ],
   "metadata": {
    "collapsed": false,
    "ExecuteTime": {
     "end_time": "2024-12-06T17:09:00.731297Z",
     "start_time": "2024-12-06T17:08:55.995742Z"
    }
   },
   "outputs": [
    {
     "data": {
      "text/plain": [
       "         file sample_name                                             manual\n",
       "\n",
       "[156 rows x 3 columns]"
      ],
      "text/html": [
       "<div>\n",
       "<style scoped>\n",
       "    .dataframe tbody tr th:only-of-type {\n",
       "        vertical-align: middle;\n",
       "    }\n",
       "\n",
       "    .dataframe tbody tr th {\n",
       "        vertical-align: top;\n",
       "    }\n",
       "\n",
       "    .dataframe thead th {\n",
       "        text-align: right;\n",
       "    }\n",
       "</style>\n",
       "<p>156 rows × 3 columns</p>\n",
       "</div>"
      ]
     },
     "execution_count": 3,
     "metadata": {},
     "output_type": "execute_result"
    }
   ],
   "execution_count": 3
  },
  {
   "cell_type": "markdown",
   "source": [
    "## Load different ASR transcriptions"
   ],
   "metadata": {
    "collapsed": false
   }
  },
  {
   "cell_type": "code",
   "source": [
    "def get_ASR_transcriptions(base_dirs, manual, version_name):\n",
    "    transcriptions = []\n",
    "\n",
    "    # Traverse the directory and its subdirectories\n",
    "    for root, dirs, files in chain.from_iterable(os.walk(d) for d in base_dirs):\n",
    "        # Filter the files for .txt extension\n",
    "        txt_files = glob.glob(os.path.join(root, '*.txt'))\n",
    "        #print(sorted([os.path.basename(f) for f in txt_files]), len([os.path.basename(f) for f in txt_files]))\n",
    "\n",
    "        # Read the content of each .txt file\n",
    "        for file_path in txt_files:\n",
    "\n",
    "            with open(file_path, 'r') as file:\n",
    "                content = file.read()\n",
    "                try:\n",
    "                    # remove metadata at beginning of file by splitting by double line break and taking the second part, if available\n",
    "                    content = content[content.index(\"\\n\\n\")+2:]\n",
    "                except:\n",
    "                    pass\n",
    "                # remove punctuation\n",
    "                content = re.sub(r\"[.,?!]\", \"\", content)\n",
    "                # normalize white spaces\n",
    "                content = re.sub(r\"\\s+\", \" \", content).strip()\n",
    "                content = content.lower()\n",
    "                path = os.path.basename(file_path)\n",
    "                sample_name = path[:path.index(\".\")]\n",
    "                if sample_name != \"info\":\n",
    "                    transcriptions.append(pd.Series({'file': path, 'sample_name': sample_name, 'transcript': content, 'version': version_name}))\n",
    "\n",
    "    concat = pd.concat(transcriptions, axis=1).T\n",
    "    return concat.merge(manual.drop(columns=[\"file\"]), on=\"sample_name\", how=\"outer\")\n"
   ],
   "metadata": {
    "collapsed": false,
    "ExecuteTime": {
     "end_time": "2024-12-06T17:09:00.756099Z",
     "start_time": "2024-12-06T17:09:00.752374Z"
    }
   },
   "outputs": [],
   "execution_count": 4
  },
  {
   "cell_type": "code",
   "source": [
    "# Load Google Speech\n",
    "google = get_ASR_transcriptions([f'/Volumes/methlab/Students/Jonathan/data_preprocessed/transcriptions/google_speech/v1_9ae494/{d}' for d in ['_raw_ADReSS_audio_test_-_Audio_Cutter', '_raw_ADReSS_audio_train_-_Audio_Cutter']], manual, \"google\")\n",
    "google"
   ],
   "metadata": {
    "collapsed": false,
    "ExecuteTime": {
     "end_time": "2024-12-06T17:09:06.988436Z",
     "start_time": "2024-12-06T17:09:00.794528Z"
    }
   },
   "outputs": [
    {
     "data": {
      "text/plain": [
       "         file sample_name                                         transcript  \\\n",
       "\n",
       "    version                                             manual  \n",
       "\n",
       "[156 rows x 5 columns]"
      ],
      "text/html": [
       "<div>\n",
       "<style scoped>\n",
       "    .dataframe tbody tr th:only-of-type {\n",
       "        vertical-align: middle;\n",
       "    }\n",
       "\n",
       "    .dataframe tbody tr th {\n",
       "        vertical-align: top;\n",
       "    }\n",
       "\n",
       "    .dataframe thead th {\n",
       "        text-align: right;\n",
       "    }\n",
       "</style>\n",
       "<p>156 rows × 5 columns</p>\n",
       "</div>"
      ]
     },
     "execution_count": 5,
     "metadata": {},
     "output_type": "execute_result"
    }
   ],
   "execution_count": 5
  },
  {
   "cell_type": "code",
   "source": [
    "whisper = get_ASR_transcriptions([f'/Volumes/methlab/Students/Jonathan/data_preprocessed/transcriptions/whisper-large/v2_7e8484/{d}' for d in ['_raw_ADReSS_audio_test_-_Audio_Cutter', '_raw_ADReSS_audio_train_-_Audio_Cutter']], manual, \"whisper\")\n",
    "whisper"
   ],
   "metadata": {
    "collapsed": false,
    "ExecuteTime": {
     "end_time": "2024-12-06T17:09:12.657678Z",
     "start_time": "2024-12-06T17:09:07.008315Z"
    }
   },
   "outputs": [
    {
     "data": {
      "text/plain": [
       "         file sample_name                                         transcript  \\\n",
       "\n",
       "     version                                             manual  \n",
       "\n",
       "[156 rows x 5 columns]"
      ],
      "text/html": [
       "<div>\n",
       "<style scoped>\n",
       "    .dataframe tbody tr th:only-of-type {\n",
       "        vertical-align: middle;\n",
       "    }\n",
       "\n",
       "    .dataframe tbody tr th {\n",
       "        vertical-align: top;\n",
       "    }\n",
       "\n",
       "    .dataframe thead th {\n",
       "        text-align: right;\n",
       "    }\n",
       "</style>\n",
       "<p>156 rows × 5 columns</p>\n",
       "</div>"
      ]
     },
     "execution_count": 6,
     "metadata": {},
     "output_type": "execute_result"
    }
   ],
   "execution_count": 6
  },
  {
   "cell_type": "code",
   "source": [],
   "metadata": {
    "collapsed": false,
    "ExecuteTime": {
     "end_time": "2024-12-06T17:09:12.701197Z",
     "start_time": "2024-12-06T17:09:12.699930Z"
    }
   },
   "outputs": [],
   "execution_count": null
  },
  {
   "cell_type": "markdown",
   "source": [
    "## Calculate Word Error Rate (WER)\n",
    "\n",
    "Using jiwer package, also CER, which we don't use..."
   ],
   "metadata": {
    "collapsed": false
   }
  },
  {
   "cell_type": "code",
   "source": [
    "def calculate_wer(transcription):\n",
    "    def calculate_row(fct, row):\n",
    "        try:\n",
    "            return fct(row.manual, row.transcript)\n",
    "        except:\n",
    "            return None\n",
    "    transcription['WER'] = transcription.apply(lambda row: calculate_row(jiwer.wer, row), axis=1)  # word error rate\n",
    "    transcription['CER'] = transcription.apply(lambda row: calculate_row(jiwer.cer, row), axis=1)  # character error rate\n",
    "    return transcription\n"
   ],
   "metadata": {
    "collapsed": false,
    "ExecuteTime": {
     "end_time": "2024-12-06T17:09:12.744293Z",
     "start_time": "2024-12-06T17:09:12.741995Z"
    }
   },
   "outputs": [],
   "execution_count": 7
  },
  {
   "cell_type": "code",
   "source": [
    "# Example, for one ASR\n",
    "with pd.option_context('display.max_colwidth', 2000):\n",
    "    display(calculate_wer(whisper))"
   ],
   "metadata": {
    "collapsed": false,
    "ExecuteTime": {
     "end_time": "2024-12-06T17:09:12.841252Z",
     "start_time": "2024-12-06T17:09:12.766783Z"
    }
   },
   "outputs": [
    {
     "data": {
      "text/plain": [
       "         file sample_name  \\\n",
       "0    S193.txt        S193   \n",
       "1    S194.txt        S194   \n",
       "2    S170.txt        S170   \n",
       "3    S177.txt        S177   \n",
       "4    S179.txt        S179   \n",
       "..        ...         ...   \n",
       "151  S004.txt        S004   \n",
       "152  S003.txt        S003   \n",
       "153  S036.txt        S036   \n",
       "154  S043.txt        S043   \n",
       "155  S038.txt        S038   \n",
       "\n",
       "                                                                                                                                                                                                                                                                                                                                                                                                                                                                                                                                                                                                                                                                                                                                                                                                                                                                                                                                                                                                                                                                                                                                                                                                                                                                                                                                                                                 transcript  \\\n",
       "0                                                                                                                                                                                                                                                                                                                                                                                                                                                                                                                                                                                                                                                                                   okay the kid on the bench who's got his hand in the cookie jar and he's falling off his sister wants one his mother is standing in a puddle of water because she didn't turn off the faucet and she's trying to dry a dish she ought to dry her feet instead the window is open the water sink is overflowing it's obviously summer because the window as i said was open there's supposedly leaves on the trees anything else that i'm supposed to pick up well the kid's going to fall off the lid is off the cookie jar he's got one in his hand handing it to his sister and one is sneaking another one not sneaking the water is still running in the sink and splashing on the floor there we go   \n",
       "1                                                                                                                                                                                                                                                                                                                                                                                                                                                                                                                                                                                                                                                                                                                                                                                                                                                                                                                                                                                                                                                                           well the mother has water spilling all over the floor for one thing and she's starting to dry the dishes and then she's looking out the window and the little girl's there and the little boy and he almost has fallen off the stool but he didn't so he survived anyway yeah on this paper yeah okay thank you   \n",
       "2                                                                                                                                                                                                                                                                                                                                                                                                                                                                                                                                                                                                                                                                                                                                                                                                                                                                                                                                                                                                                                                                                                                                                                                   this woman is sitting in the sink washing dishes and the water is flowing out of her sink and i see this little boy standing on the stool eating cookies and he looks like he's ready to fall thank you   \n",
       "3                                                                                                                                                                                                                                                                                                                                                                                                                                                                                                                                                                                                                                                                                                                                                                                                                       a cookie jar a lad standing on a stool tearing grabbing other cookies sister i guess laughing father washing dishes view of the yard the kitchen two cups in a dish remain dry understanding the two base cabinets four doors balanced windows half open and there's landscape along the wall and a view from the view of the art and walk away picture when water is running over the floor the boy is holding a cookie in his left hand and grabbing for another one in his's right the lid of the jar is over oh off mother's bringing a knife drying the dishes   \n",
       "4                                                                                                                                                                                                                                                                                                                                                                                                                                                                                                                                                                                                                                                                                                                                                                                                                                                                                                                                                                                      i'm in the table room and this thing is falling this thing is running over i'm cooking i'm trying to do something i'm trying to do something i'm trying to do something i'm trying to do something well yeah here's the outside window garden i guess i don't know i don't know i don't know i don't know i don't know i don't know i don't know i don't know i don't know i don't know i don't know   \n",
       "..                                                                                                                                                                                                                                                                                                                                                                                                                                                                                                                                                                                                                                                                                                                                                                                                                                                                                                                                                                                                                                                                                                                                                                                                                                                                                                                                                                                      ...   \n",
       "151  this should make us laugh are you ready mm-hmm well the sink is overflowing mother was standing in the water like a jerk she's wiping the dishes also like a jerk the boy is trying to get a cookie out of the cookie jar but boy he's about to fall off the stool his sister has her hand finger up to her mouth like she's saying shh be quiet tell my mother i know what you're doing and he's about to hand her a cookie but in a few moments it's going to be like total catastrophe mother the reason the water is flowing out over the sink is because the water is running furiously the reason the water is flowing out over the sink is because the water is running furiously and i'm looking out through the window and i don't see anything going on out there that's just a bush i'm presuming or a plum pudding i told you the stool was about to go over in a moment there's going to be real chaos what's going on in the picture looks like nothing the cookie jar is full the lid is off the cookie jar do you want me to tell you all those things tell me all the things you see going on in the picture the cabinet door has just swung open the stool is about to fall i guess i've told you that with the terrible crash mother is daydreaming she doesn't even know what's going on behind her i think that's very important and sometimes typical some stars   \n",
       "152                                                                                                                                                                                                                                                                                                                                                                                                                                                                                                                                                                                     okay there's a little boy and he's getting he's standing on a stool that's upsetting and he's getting a cookie and he's sharing a cookie with the little girl who is shushing her mother with her finger and reaching for the cookie at the same time what are the instructions just give as many details tell me all the things you see going on action anything you see going on action or or anything you see oh okay the cupboard door is open the stool is crooked the water is splashing on the floor the mother is i'm assuming it's a mother is stepping in it she's drying her dishes the uh sink is overflowing the cups and the saucers are there the window is open and you see the lawn outside and it must be summertime they all have on short sleeves and she's wearing an apron ok   \n",
       "153                                                                                                                                                                                                                                                                                                                                                                                                                                                                                                                                                                                                                                                                                                                                                                                                                        well one thing this boy's on the stool getting cookies his stool's about to fall and the little girl's reaching for some cookies she's got a finger in her mouth mother's drying dishes and water's running over she's got a she's drying dishes water's running over she's standing in the water there's a sink there plate cup outside you can see outside there the walkway edge of the window tree outside the cookery jar would have to be in the cupboard and there's a what you call it counter on in the kitchen that's when the curtains and the window   \n",
       "154                                                                                                                                                                                                                                                                                                                                                                                                                                                                                                                                                                                                                                                                                                                                                                                                                                  there is a boy on the stool the stool is tipping over the boy is taking cookies out of the jar the cupboard is open the girl is putting her finger to her mouth and also putting her hand out for a cookie the mother is washing dishes water is spilling over from the sink onto the floor and the window is open the drapes are open there's two cups and a saucer on the sink and the she is stepping on the water on the floor and she is drying the dishes and she is looking outside at the cloud shrubbery the boy is handing the girl a cookie   \n",
       "155                                                                                                                                                                                                                                                                                                                                                                                                                                                     everything that i see going on okay well the little boy is stealing a cookie from the cookie jar he's also handing a cookie with his left hand to the girl he's also falling off the stool or the stool is tipping over the little girl is reaching for the cookie and at the same time she's picking her nose or something i don't know what she's doing it looks like maybe the lid is falling from the cookie jar i'm not sure like maybe the lid is falling from the cookie jar i'm not sure the lady is wiping a plate while the sink overflows she's standing in a puddle of water am i going too fast and she's looking out the window am i going too fast and she's looking out the window i can't make out anything in particular going on outside the faucet is turned on of course which is causing the sink to overflow and the water is splashing on the floor that's really about all i can tell going on so to speak   \n",
       "\n",
       "     version  \\\n",
       "0    whisper   \n",
       "1    whisper   \n",
       "2    whisper   \n",
       "3    whisper   \n",
       "4    whisper   \n",
       "..       ...   \n",
       "151  whisper   \n",
       "152  whisper   \n",
       "153  whisper   \n",
       "154  whisper   \n",
       "155  whisper   \n",
       "\n",
       "                                                                                                                                                                                                                                                                                                                                                                                                                                                                                                                                                                                                                                                                                                                                                                                                                                                                                                                                                                                                                                                                                                                                                                                                                                                                                                                                                                 manual  \\\n",
       "0                                                                                                                                                                                                                                                                                                                                                                                                                                                                                                                                                                                                        okay the kid on the bench who's got his hand in the cookie jar and he's falling off and his sister wants one . uh his mother is standing in a puddle of water because she didn't turn off the faucet and she's drying dry a dish . she oughta dry her feet instead . uh the window is open . um uh well the sink is overflowing . uh it's obviously summer because the window as I said was open . there's uh supposedly leaves on the trees . uh anything else that I'm sposta pick up ? well the kid's gonna fall off . and it . the lid is off the cookie jar . and he's got one in his hand and handing it to his sister . and one and he's sneaking another one . not sneaking . uh the water is still running in the sink . and splashing on the floor .   \n",
       "1                                                                                                                                                                                                                                                                                                                                                                                                                                                                                                                                                                                                                                                                                                                                                                                                                                                                                                                                                                                                                                        well the mother has water spilling all over the floor for one thing . then she's starting to dry the dishes . and then she's looking out the window . and uh the little girl's there and the little boy and he almost is falling off the stool . but he didn't so he d he survived anyway huh ? yeah yeah on this paper yeah .   \n",
       "2                                                                                                                                                                                                                                                                                                                                                                                                                                                                                                                                                                                                                                                                                                                                                                                                                                                                                                                                                                                                                                                         I s see this woman who's standing by the sink washing dishes and the water's spilling out over the sink . and I see a little this little boy standing on a stool reaching for cookies and he looks like he's ready to fall . uh as far as action goes I don't know if I see any more action in there at all .   \n",
       "3                                                                                                                                                                                                                                                                                                                                                                                                                                                                                                                                                                         cookie jar . uh a lad standing on a stool teetering, grabbing for the cookies . sister I guess laughing at him . mother washing dishes . sink is overflowing . um view of the yard and the kitchen window with its curtain . two cups and a dish remain . looks like they're dried . mother standing in the overflowed water . um her four vased two faced cabinets four doors . and a valance and the curtain . window's half open . and there's landscaping along the wall of the uh view from the yard view of the yard . and the walkway pictured from the window . water is running, overflowing . boy is holding a cookie in his left hand, grabbing for another one with his right hand . the lid of the cookie jar is over uff off . mother's wearing an apron drying dishes . okay .   \n",
       "4                                                                                                                                                                                                                                                                                                                                                                                                                                                                                                                                                                                                                                                                                                                                                                                                                                                                                                                                                                                                                                                                well the table the seat is falling . the sink is running over . the girl's reaching for a cookie . the mom is drying a dish . hm hm cup and saucers there . yeah that's about all that I didn't hit did this and then I did that . hm well yeah here's some outside the window . uh a garden I guess .   \n",
       "..                                                                                                                                                                                                                                                                                                                                                                                                                                                                                                                                                                                                                                                                                                                                                                                                                                                                                                                                                                                                                                                                                                                                                                                                                                                                                                                                                                  ...   \n",
       "151  are you ready ? um well the sink is overflowing . mother is standing in the water like a jerk . she's wiping the dishes also like a jerk . um there uh the the the boy is trying to get a cookie out of the cookie jar but boy he's about to fall off the stool . his sister has her has her hand up finger up to her mouth like she's saying shh . to be quiet don't let mother know what you're doing . and he's about to hand her a cookie . but um in a few moments it's going to be like total catastrophe . mother the reason the water's flowing out over the sink is because the water is running furiously . um and I'm looking out through the window . and I don't see anything going on out there . unless m I don't that's just a bush I'm presuming or a plum pudding . um I told you the stools about to go over . in a moment there's going to be real chaos which will make what's going on in the picture look like nothing . the cookie jar is full . the lid is off the cookie jar . and the do you want me to tell you all of those things ? the the cabinet door has just swung open . stool is about to fall . I guess I've just told you that . with a terrible crash . um mother is daydreaming . she doesn't even know what's going on behind her . I think that's very important and sometimes typical . um seems to be all I can see .   \n",
       "152                                                                                                                                                                                                                                                                                                                                                                                                                                                                                                                                                                            okay . there's a little boy and he's getting he's standing on a stool that's upsetting . and he's getting a cookie and he's sharing a cookie with the little girl who is shushing her mother with her finger and reaching for the cookie at the same time . on the k what are what are the instructions ? just give as many details like action . or d or oh okay . the cupboard door is open . the stool is crooked . the water is splashing on the floor . the m uh mother is um I'm assuming it's a mother is stepping in it . she's drying her dishes . the uh sink is overflowing . the cups and the saucers are there . the window is open and you see the lawn outside . and it must be summertime . they all have on shor short sleeves . and uh she's wearing an apron . okay .   \n",
       "153                                                                                                                                                                                                                                                                                                                                                                                                                                                                                                                                                                                                                                                                                                                well uh for one thing this boy's on the stool getting cookies . and his stool's about to fall . and and the little girl's reaching for some cookies . she got her finger in her mouth . um the mother's drying dishes and water's running over . she got her pl yeah and she drying dishes water's running over . she's standing in water . there's a sink there . plate and a cup . outside you can see outside there the the walkway and hedges, a window, tree . and uh outside the cup the cookie jar would hafta be in the cupboard . and there's a what you call it the counter on in the kitchen . that's and the curtains . and the window .   \n",
       "154                                                                                                                                                                                                                                                                                                                                                                                                                                                                                                                                                                                                                                                                                                                                    can I start ? there is a boy on the stool . the stool is tipping over . the boy is taking cookies out of the jar . uh the cupboard is open . the girl is saying putting her finger to her mouth and also putting her hand out for a cookie . the mother is washing dishes . water is spilling over from the sink onto the floor . and the the window is open, the drapes are open . there's two cups and a saucer on the sink . and the she is stepping on the water on the floor . and she is drying the dishes . and she is looking outside at the wow at the shrubbery . the boy is handing the girl a cookie . that is all .   \n",
       "155                                                                                                                                                                                                                                                                                                                                                                                                                                                                                                       everything that I see going on . okay . well a little boy is stealing a cookie from the cookie jar . he's also handing a cookie with his left hand to the girl . he's also falling off a stool or the stool is tipping over . the little girl is reaching for the cookie . at the same time she's picking her nose or something . I don't know what's she's doing . uh it looks like maybe the lid is falling from the cookie jar . I'm not sure . the lady is wiping a plate while the sink overflows . and she's standing in a puddle of water . am I going too fast ? and she's looking out the window . I can't make out anything in particular going on outside . the water the faucet's turned on of course which is causing the sink to overflow . and the water is splashing on the floor . that's really about all I can tell going on so to speak .   \n",
       "\n",
       "          WER       CER  \n",
       "0    0.284810  0.158038  \n",
       "1    0.238806  0.154088  \n",
       "2    0.600000  0.421927  \n",
       "3    0.568627  0.385621  \n",
       "4    1.090909  0.850340  \n",
       "..        ...       ...  \n",
       "151  0.373239  0.269406  \n",
       "152  0.298137  0.202632  \n",
       "153  0.348837  0.205414  \n",
       "154  0.205882  0.129934  \n",
       "155  0.308571  0.212304  \n",
       "\n",
       "[156 rows x 7 columns]"
      ],
      "text/html": [
       "<div>\n",
       "<style scoped>\n",
       "    .dataframe tbody tr th:only-of-type {\n",
       "        vertical-align: middle;\n",
       "    }\n",
       "\n",
       "    .dataframe tbody tr th {\n",
       "        vertical-align: top;\n",
       "    }\n",
       "\n",
       "    .dataframe thead th {\n",
       "        text-align: right;\n",
       "    }\n",
       "</style>\n",
       "<p>156 rows × 7 columns</p>\n",
       "</div>"
      ]
     },
     "metadata": {},
     "output_type": "display_data"
    }
   ],
   "execution_count": 8
  },
  {
   "cell_type": "markdown",
   "source": [
    "### Plot box plot of distribution of WER for each ASR sytem\n",
    "\n",
    "With and without outliers"
   ],
   "metadata": {
    "collapsed": false
   }
  },
  {
   "cell_type": "code",
   "source": [
    "def plot_metrics(metric_name, experiment_name, *transcriptions):\n",
    "\n",
    "    metric_name_mapping = {\n",
    "        'WER': \"Word Error Rate\",\n",
    "        'CER': \"Character Error Rate\"\n",
    "    }\n",
    "    metric_name_full = metric_name_mapping.get(metric_name, metric_name)\n",
    "\n",
    "    metrics = {}\n",
    "    for t in transcriptions:\n",
    "        version = t['version'][0]\n",
    "        #print(\"Version:\", version)\n",
    "        if t.query(\"transcript.isna()\").shape[0] > 0:\n",
    "            print(f\"NA transcriptions for sample {t.query('transcript.isna()')['sample_name']}\")\n",
    "            t = t.query(\"not transcript.isna()\").copy()\n",
    "        m = calculate_wer(t)[metric_name]\n",
    "        metrics[version] = m\n",
    "\n",
    "    # positions: i + a gap between each group. Make sure it's sorted by group, otherwise the positions logic doesnt work\n",
    "    groups = [0 if 'adress' in metric_name else 1 for metric_name in metrics]\n",
    "    assert sorted(groups) == groups\n",
    "    positions = [i+groups[i] for i in range(len(groups))]\n",
    "\n",
    "    fig, (ax1, ax2) = plt.subplots(1, 2, figsize=(8,6))\n",
    "    fig.suptitle(f'{metric_name_full} comparisons')\n",
    "    ax1.boxplot(metrics.values(), positions=positions)\n",
    "    ax1.set_xticklabels(metrics.keys(), rotation=45, ha='right', rotation_mode='anchor')\n",
    "    ax2.boxplot(metrics.values(), sym=\"\", positions=positions)\n",
    "    ax2.set_xticklabels(metrics.keys(), rotation=45, ha='right', rotation_mode='anchor')\n",
    "    plt.tight_layout()\n",
    "\n",
    "    create_directory(\"plots\")\n",
    "    experiment_name_part = experiment_name.replace(\" \", \"_\").lower()\n",
    "    plt.savefig(f\"plots/{experiment_name_part}_{metric_name}-transcriptions.png\")\n",
    "    plt.show()\n",
    "\n",
    "plot_metrics('WER', 'ASR comparison', whisper, google)\n",
    "#plot_metrics('CER', 'ASR comparison', whisper, google, wave2vec2)\n",
    "\n",
    "\n",
    "\n"
   ],
   "metadata": {
    "collapsed": false,
    "ExecuteTime": {
     "end_time": "2024-12-06T17:09:13.125088Z",
     "start_time": "2024-12-06T17:09:12.848995Z"
    }
   },
   "outputs": [
    {
     "data": {
      "text/plain": [
       "<Figure size 800x600 with 2 Axes>"
      ],
      "image/png": "[encoded data removed]"
     },
     "metadata": {},
     "output_type": "display_data"
    }
   ],
   "execution_count": 9
  },
  {
   "cell_type": "code",
   "source": [],
   "metadata": {
    "collapsed": false,
    "ExecuteTime": {
     "end_time": "2024-12-06T17:09:13.134111Z",
     "start_time": "2024-12-06T17:09:13.132667Z"
    }
   },
   "outputs": [],
   "execution_count": null
  },
  {
   "cell_type": "markdown",
   "source": [
    "## Load gender and age information for each sample_name"
   ],
   "metadata": {
    "collapsed": false
   }
  },
  {
   "cell_type": "code",
   "source": [
    "# get gender and age\n",
    "\n",
    "metadata_raw = [{'path': os.path.join(CONSTANTS.DATA_ADReSS_ROOT, \"test\", \"meta_data_with_labels.csv\"), 'label': None},\n",
    "                {'path': os.path.join(CONSTANTS.DATA_ADReSS_ROOT, \"train\", \"cd_meta_data.txt\"), 'label': 1},\n",
    "                {'path': os.path.join(CONSTANTS.DATA_ADReSS_ROOT, \"train\", \"cc_meta_data.txt\"), 'label': 0}]\n",
    "\n",
    "dfs = []\n",
    "for d in metadata_raw:\n",
    "    path, label = d['path'], d['label']\n",
    "    df = pd.read_csv(path, sep=\";\")\n",
    "    if label is not None:\n",
    "        df['Label'] = label\n",
    "    df = df.rename(columns={c: c.strip() for c in df.columns}).rename(columns={'ID': 'sample_name'})\n",
    "    dfs.append(df)\n",
    "participant_metadata = pd.concat(dfs)\n",
    "participant_metadata.sample_name = participant_metadata.sample_name.str.strip()\n",
    "participant_metadata.gender = np.where(participant_metadata.gender.str.strip().isin(['female', \"1\", 1]), 1, np.where(participant_metadata.gender.str.strip().isin(['male', \"0\", 0]), 0, participant_metadata.gender)) # 1 female, 0 male\n",
    "participant_metadata\n",
    "\n",
    "participant_metadata.gender.value_counts(dropna=False)"
   ],
   "metadata": {
    "collapsed": false,
    "ExecuteTime": {
     "end_time": "2024-12-06T17:09:13.153695Z",
     "start_time": "2024-12-06T17:09:13.143449Z"
    }
   },
   "outputs": [
    {
     "data": {
      "text/plain": [
       "gender\n",
       "1    86\n",
       "0    70\n",
       "Name: count, dtype: int64"
      ]
     },
     "execution_count": 10,
     "metadata": {},
     "output_type": "execute_result"
    }
   ],
   "execution_count": 10
  },
  {
   "cell_type": "markdown",
   "source": [
    "## Plot distribution of WER for each ASR and group"
   ],
   "metadata": {
    "collapsed": false
   }
  },
  {
   "cell_type": "code",
   "source": [
    "combined = pd.concat([whisper, google])\n",
    "combined = combined.sort_values(by=\"file\").drop(columns=['transcript','manual'])\n",
    "combined = combined.merge(participant_metadata, on=\"sample_name\", how=\"left\")\n",
    "combined['Label'] = combined['Label'].astype(str)\n",
    "combined"
   ],
   "metadata": {
    "collapsed": false,
    "ExecuteTime": {
     "end_time": "2024-12-06T17:09:13.190715Z",
     "start_time": "2024-12-06T17:09:13.182207Z"
    }
   },
   "outputs": [
    {
     "data": {
      "text/plain": [
       "         file sample_name  version       WER       CER  age gender Label mmse\n",
       "0    S001.txt        S001  whisper  0.198068  0.097586   74      0     0   NA\n",
       "1    S001.txt        S001   google  0.193237  0.089537   74      0     0   NA\n",
       "2    S002.txt        S002  whisper  0.873786  0.599617   62      1     0   30\n",
       "3    S002.txt        S002   google  1.000000  1.000000   62      1     0   30\n",
       "4    S003.txt        S003   google  0.248447  0.143421   69      1     0   29\n",
       "..        ...         ...      ...       ...       ...  ...    ...   ...  ...\n",
       "307  S205.txt        S205   google  0.190476  0.089404   50      0     1   23\n",
       "308  S206.txt        S206  whisper  0.141667  0.056042   65      0     0   28\n",
       "309  S206.txt        S206   google  0.125000  0.052539   65      0     0   28\n",
       "310  S207.txt        S207   google  1.122449  0.879668   57      1     0   27\n",
       "311  S207.txt        S207  whisper  1.367347  1.095436   57      1     0   27\n",
       "\n",
       "[312 rows x 9 columns]"
      ],
      "text/html": [
       "<div>\n",
       "<style scoped>\n",
       "    .dataframe tbody tr th:only-of-type {\n",
       "        vertical-align: middle;\n",
       "    }\n",
       "\n",
       "    .dataframe tbody tr th {\n",
       "        vertical-align: top;\n",
       "    }\n",
       "\n",
       "    .dataframe thead th {\n",
       "        text-align: right;\n",
       "    }\n",
       "</style>\n",
       "<table border=\"1\" class=\"dataframe\">\n",
       "  <thead>\n",
       "    <tr style=\"text-align: right;\">\n",
       "      <th></th>\n",
       "      <th>file</th>\n",
       "      <th>sample_name</th>\n",
       "      <th>version</th>\n",
       "      <th>WER</th>\n",
       "      <th>CER</th>\n",
       "      <th>age</th>\n",
       "      <th>gender</th>\n",
       "      <th>Label</th>\n",
       "      <th>mmse</th>\n",
       "    </tr>\n",
       "  </thead>\n",
       "  <tbody>\n",
       "    <tr>\n",
       "      <th>0</th>\n",
       "      <td>S001.txt</td>\n",
       "      <td>S001</td>\n",
       "      <td>whisper</td>\n",
       "      <td>0.198068</td>\n",
       "      <td>0.097586</td>\n",
       "      <td>74</td>\n",
       "      <td>0</td>\n",
       "      <td>0</td>\n",
       "      <td>NA</td>\n",
       "    </tr>\n",
       "    <tr>\n",
       "      <th>1</th>\n",
       "      <td>S001.txt</td>\n",
       "      <td>S001</td>\n",
       "      <td>google</td>\n",
       "      <td>0.193237</td>\n",
       "      <td>0.089537</td>\n",
       "      <td>74</td>\n",
       "      <td>0</td>\n",
       "      <td>0</td>\n",
       "      <td>NA</td>\n",
       "    </tr>\n",
       "    <tr>\n",
       "      <th>2</th>\n",
       "      <td>S002.txt</td>\n",
       "      <td>S002</td>\n",
       "      <td>whisper</td>\n",
       "      <td>0.873786</td>\n",
       "      <td>0.599617</td>\n",
       "      <td>62</td>\n",
       "      <td>1</td>\n",
       "      <td>0</td>\n",
       "      <td>30</td>\n",
       "    </tr>\n",
       "    <tr>\n",
       "      <th>3</th>\n",
       "      <td>S002.txt</td>\n",
       "      <td>S002</td>\n",
       "      <td>google</td>\n",
       "      <td>1.000000</td>\n",
       "      <td>1.000000</td>\n",
       "      <td>62</td>\n",
       "      <td>1</td>\n",
       "      <td>0</td>\n",
       "      <td>30</td>\n",
       "    </tr>\n",
       "    <tr>\n",
       "      <th>4</th>\n",
       "      <td>S003.txt</td>\n",
       "      <td>S003</td>\n",
       "      <td>google</td>\n",
       "      <td>0.248447</td>\n",
       "      <td>0.143421</td>\n",
       "      <td>69</td>\n",
       "      <td>1</td>\n",
       "      <td>0</td>\n",
       "      <td>29</td>\n",
       "    </tr>\n",
       "    <tr>\n",
       "      <th>...</th>\n",
       "      <td>...</td>\n",
       "      <td>...</td>\n",
       "      <td>...</td>\n",
       "      <td>...</td>\n",
       "      <td>...</td>\n",
       "      <td>...</td>\n",
       "      <td>...</td>\n",
       "      <td>...</td>\n",
       "      <td>...</td>\n",
       "    </tr>\n",
       "    <tr>\n",
       "      <th>307</th>\n",
       "      <td>S205.txt</td>\n",
       "      <td>S205</td>\n",
       "      <td>google</td>\n",
       "      <td>0.190476</td>\n",
       "      <td>0.089404</td>\n",
       "      <td>50</td>\n",
       "      <td>0</td>\n",
       "      <td>1</td>\n",
       "      <td>23</td>\n",
       "    </tr>\n",
       "    <tr>\n",
       "      <th>308</th>\n",
       "      <td>S206.txt</td>\n",
       "      <td>S206</td>\n",
       "      <td>whisper</td>\n",
       "      <td>0.141667</td>\n",
       "      <td>0.056042</td>\n",
       "      <td>65</td>\n",
       "      <td>0</td>\n",
       "      <td>0</td>\n",
       "      <td>28</td>\n",
       "    </tr>\n",
       "    <tr>\n",
       "      <th>309</th>\n",
       "      <td>S206.txt</td>\n",
       "      <td>S206</td>\n",
       "      <td>google</td>\n",
       "      <td>0.125000</td>\n",
       "      <td>0.052539</td>\n",
       "      <td>65</td>\n",
       "      <td>0</td>\n",
       "      <td>0</td>\n",
       "      <td>28</td>\n",
       "    </tr>\n",
       "    <tr>\n",
       "      <th>310</th>\n",
       "      <td>S207.txt</td>\n",
       "      <td>S207</td>\n",
       "      <td>google</td>\n",
       "      <td>1.122449</td>\n",
       "      <td>0.879668</td>\n",
       "      <td>57</td>\n",
       "      <td>1</td>\n",
       "      <td>0</td>\n",
       "      <td>27</td>\n",
       "    </tr>\n",
       "    <tr>\n",
       "      <th>311</th>\n",
       "      <td>S207.txt</td>\n",
       "      <td>S207</td>\n",
       "      <td>whisper</td>\n",
       "      <td>1.367347</td>\n",
       "      <td>1.095436</td>\n",
       "      <td>57</td>\n",
       "      <td>1</td>\n",
       "      <td>0</td>\n",
       "      <td>27</td>\n",
       "    </tr>\n",
       "  </tbody>\n",
       "</table>\n",
       "<p>312 rows × 9 columns</p>\n",
       "</div>"
      ]
     },
     "execution_count": 11,
     "metadata": {},
     "output_type": "execute_result"
    }
   ],
   "execution_count": 11
  },
  {
   "cell_type": "code",
   "source": [
    "import matplotlib.patches as mpatches\n",
    "\n",
    "def plot_metrics_for_paper2(combined):\n",
    "\n",
    "\n",
    "    #with plt.rc_context({\"text.usetex\": True, \"font.family\": \"sans-serif\", \"font.sans-serif\": \"Arial\", \"font.size\": 10}):\n",
    "    with plt.rc_context({\"font.family\": \"sans-serif\", \"font.sans-serif\": \"Arial\", \"font.size\": 10}):\n",
    "        # one column is 7.7 cm\n",
    "        cm = 1/2.54\n",
    "        fig, (ax2) = plt.subplots(1, 1, figsize=(7.7*1.3*cm,5.5*cm))\n",
    "        #fig.suptitle(f'{metric_name_full} comparisons')\n",
    "\n",
    "\n",
    "        label_positions = []\n",
    "        labels = []\n",
    "        for subgroup in ['all', 'dementia', 'control']:\n",
    "            for i, version in enumerate(combined.version.drop_duplicates()):\n",
    "                base_position = i*3.5\n",
    "                if subgroup == 'all':\n",
    "                    values = combined.query(f\"version == '{version}'\").WER\n",
    "                    position = base_position\n",
    "                    boxprops = dict(facecolor='#fff')\n",
    "                    label_positions.append(base_position + 1)\n",
    "                    labels.append(version.replace(\"_adress\", \"\").replace(\"wave2vec2\", 'Wave2vec2').replace(\"google\", 'Google\\nSpeech').replace(\"whisper\", 'Whisper'))\n",
    "                elif subgroup == 'dementia':\n",
    "                    values = combined.query(f\"version == '{version}' and Label == '1'\").WER\n",
    "                    position = base_position + 1\n",
    "                    boxprops = dict(facecolor='#ccc')\n",
    "                elif subgroup == 'control':\n",
    "                    values = combined.query(f\"version == '{version}' and Label == '0'\").WER\n",
    "                    position = base_position + 2\n",
    "                    boxprops = dict(facecolor='#888')\n",
    "                ax2.boxplot(values, sym=\"\", positions=[position], vert=False, widths=0.7, boxprops=boxprops, medianprops=dict(color='#000'), patch_artist=True)\n",
    "\n",
    "                #ax2.text(1.27, position-0.1, f\"{np.median(values):.2f}\", ha=\"right\", va=\"center\", fontsize=\"9\", backgroundcolor=\"white\", linespacing=1,\n",
    "                #          bbox=dict(boxstyle='square,pad=-0.1', fc=(1,1,1,0.7), ec=\"none\"))\n",
    "\n",
    "        # custom legend\n",
    "        all = mpatches.Patch(facecolor='#fff', edgecolor='#000', label='All data')\n",
    "        dementia = mpatches.Patch(facecolor='#ccc', edgecolor='#000', label='AD')\n",
    "        control = mpatches.Patch(facecolor='#888', edgecolor='#000', label='Control')\n",
    "        plt.legend(handles=[all, dementia, control], fontsize=10, ncol=3, loc='upper center', bbox_to_anchor=(0.4,1.2), columnspacing=0.5, frameon=False, handletextpad=0.3)\n",
    "\n",
    "\n",
    "        ax2.set_xlabel(\"WER\")\n",
    "        ax2.set_yticks(label_positions, labels)#, rotation=45, ha='right', rotation_mode='anchor')\n",
    "        ax2.set_xticks([0, .25, .5, .75, 1, 1.25])\n",
    "        ax2.set_xlim([0,1.3])\n",
    "        plt.tight_layout(pad=0)\n",
    "\n",
    "        plt.savefig(f\"plots/ASR_WER_with_subgroups2.pdf\")\n",
    "        plt.show()\n",
    "\n",
    "plot_metrics_for_paper2(combined)"
   ],
   "metadata": {
    "collapsed": false,
    "ExecuteTime": {
     "end_time": "2024-12-06T17:09:13.450156Z",
     "start_time": "2024-12-06T17:09:13.210435Z"
    }
   },
   "outputs": [
    {
     "data": {
      "text/plain": [
       "<Figure size 394.094x216.535 with 1 Axes>"
      ],
      "image/png": "[encoded data removed]"
     },
     "metadata": {},
     "output_type": "display_data"
    }
   ],
   "execution_count": 12
  },
  {
   "cell_type": "code",
   "source": [
    "combined.groupby('version').WER.agg(['mean', 'median'])"
   ],
   "metadata": {
    "collapsed": false,
    "ExecuteTime": {
     "end_time": "2024-12-06T17:09:13.478395Z",
     "start_time": "2024-12-06T17:09:13.474442Z"
    }
   },
   "outputs": [
    {
     "data": {
      "text/plain": [
       "             mean    median\n",
       "version                    \n",
       "google   0.444046  0.368993\n",
       "whisper  0.464209  0.352759"
      ],
      "text/html": [
       "<div>\n",
       "<style scoped>\n",
       "    .dataframe tbody tr th:only-of-type {\n",
       "        vertical-align: middle;\n",
       "    }\n",
       "\n",
       "    .dataframe tbody tr th {\n",
       "        vertical-align: top;\n",
       "    }\n",
       "\n",
       "    .dataframe thead th {\n",
       "        text-align: right;\n",
       "    }\n",
       "</style>\n",
       "<table border=\"1\" class=\"dataframe\">\n",
       "  <thead>\n",
       "    <tr style=\"text-align: right;\">\n",
       "      <th></th>\n",
       "      <th>mean</th>\n",
       "      <th>median</th>\n",
       "    </tr>\n",
       "    <tr>\n",
       "      <th>version</th>\n",
       "      <th></th>\n",
       "      <th></th>\n",
       "    </tr>\n",
       "  </thead>\n",
       "  <tbody>\n",
       "    <tr>\n",
       "      <th>google</th>\n",
       "      <td>0.444046</td>\n",
       "      <td>0.368993</td>\n",
       "    </tr>\n",
       "    <tr>\n",
       "      <th>whisper</th>\n",
       "      <td>0.464209</td>\n",
       "      <td>0.352759</td>\n",
       "    </tr>\n",
       "  </tbody>\n",
       "</table>\n",
       "</div>"
      ]
     },
     "execution_count": 13,
     "metadata": {},
     "output_type": "execute_result"
    }
   ],
   "execution_count": 13
  },
  {
   "cell_type": "code",
   "source": [
    "combined.groupby(['version', 'Label']).WER.agg(['mean', 'median'])\n"
   ],
   "metadata": {
    "collapsed": false,
    "ExecuteTime": {
     "end_time": "2024-12-06T17:09:13.507750Z",
     "start_time": "2024-12-06T17:09:13.502749Z"
    }
   },
   "outputs": [
    {
     "data": {
      "text/plain": [
       "                   mean    median\n",
       "version Label                    \n",
       "google  0      0.392843  0.297084\n",
       "        1      0.495249  0.399456\n",
       "whisper 0      0.434361  0.310912\n",
       "        1      0.494057  0.427146"
      ],
      "text/html": [
       "<div>\n",
       "<style scoped>\n",
       "    .dataframe tbody tr th:only-of-type {\n",
       "        vertical-align: middle;\n",
       "    }\n",
       "\n",
       "    .dataframe tbody tr th {\n",
       "        vertical-align: top;\n",
       "    }\n",
       "\n",
       "    .dataframe thead th {\n",
       "        text-align: right;\n",
       "    }\n",
       "</style>\n",
       "<table border=\"1\" class=\"dataframe\">\n",
       "  <thead>\n",
       "    <tr style=\"text-align: right;\">\n",
       "      <th></th>\n",
       "      <th></th>\n",
       "      <th>mean</th>\n",
       "      <th>median</th>\n",
       "    </tr>\n",
       "    <tr>\n",
       "      <th>version</th>\n",
       "      <th>Label</th>\n",
       "      <th></th>\n",
       "      <th></th>\n",
       "    </tr>\n",
       "  </thead>\n",
       "  <tbody>\n",
       "    <tr>\n",
       "      <th rowspan=\"2\" valign=\"top\">google</th>\n",
       "      <th>0</th>\n",
       "      <td>0.392843</td>\n",
       "      <td>0.297084</td>\n",
       "    </tr>\n",
       "    <tr>\n",
       "      <th>1</th>\n",
       "      <td>0.495249</td>\n",
       "      <td>0.399456</td>\n",
       "    </tr>\n",
       "    <tr>\n",
       "      <th rowspan=\"2\" valign=\"top\">whisper</th>\n",
       "      <th>0</th>\n",
       "      <td>0.434361</td>\n",
       "      <td>0.310912</td>\n",
       "    </tr>\n",
       "    <tr>\n",
       "      <th>1</th>\n",
       "      <td>0.494057</td>\n",
       "      <td>0.427146</td>\n",
       "    </tr>\n",
       "  </tbody>\n",
       "</table>\n",
       "</div>"
      ]
     },
     "execution_count": 14,
     "metadata": {},
     "output_type": "execute_result"
    }
   ],
   "execution_count": 14
  }
 ],
 "metadata": {
  "kernelspec": {
   "display_name": "Python 3",
   "language": "python",
   "name": "python3"
  },
  "language_info": {
   "codemirror_mode": {
    "name": "ipython",
    "version": 2
   },
   "file_extension": ".py",
   "mimetype": "text/x-python",
   "name": "python",
   "nbconvert_exporter": "python",
   "pygments_lexer": "ipython2",
   "version": "2.7.6"
  }
 },
 "nbformat": 4,
 "nbformat_minor": 0
}
